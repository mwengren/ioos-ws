{
 "cells": [
  {
   "cell_type": "markdown",
   "metadata": {},
   "source": [
    "# IOOS SOS SensorML Access and Parsing\n",
    "7/11,9/2016, [Emilio Mayorga](https://github.com/emiliom/), for [NANOOS](https://github.com/nanoos-pnw).\n",
    "\n",
    "Access and parse the SensorML responses from an IOOS SOS M1 service endpoint. Extract all/most station-level attributes defined as part of the IOOS convention, and populate a GeoDataFrame from all the station responses. Request may involve getting all stations procedures available in the SOS endpoint, or only a subset of stations based on the station urn's. [OWSLib](https://github.com/geopython/OWSLib/) and [pyoos](https://github.com/ioos/pyoos/) are used for the requests and parsing."
   ]
  },
  {
   "cell_type": "markdown",
   "metadata": {},
   "source": [
    "## Import modules and set up low-level utility functions"
   ]
  },
  {
   "cell_type": "code",
   "execution_count": 1,
   "metadata": {
    "collapsed": false
   },
   "outputs": [],
   "source": [
    "from datetime import datetime\n",
    "from urllib import urlencode\n",
    "from collections import OrderedDict\n",
    "\n",
    "import numpy as np\n",
    "import pandas as pd\n",
    "from shapely.geometry import Point\n",
    "import geopandas as gpd\n",
    "\n",
    "from owslib.sos import SensorObservationService\n",
    "from owslib.swe.sensor.sml import SensorML, Contact, Documentation\n",
    "from owslib.util import testXMLValue, testXMLAttribute, nspath_eval\n",
    "from owslib.namespaces import Namespaces\n",
    "\n",
    "from pyoos.collectors.ioos.swe_sos import IoosSweSos\n",
    "from pyoos.parsers.ioos.describe_sensor import IoosDescribeSensor\n",
    "from pyoos.parsers.ioos.one.describe_sensor import ont"
   ]
  },
  {
   "cell_type": "code",
   "execution_count": 2,
   "metadata": {
    "collapsed": true
   },
   "outputs": [],
   "source": [
    "# These functions are all from OWSLib, with minor adaptations\n",
    "\n",
    "def get_namespaces():\n",
    "    n = Namespaces()\n",
    "    namespaces = n.get_namespaces([\"sml\", \"gml\", \"xlink\", \"swe\"])\n",
    "    namespaces[\"ism\"] = \"urn:us:gov:ic:ism:v2\"\n",
    "    return namespaces\n",
    "\n",
    "namespaces = get_namespaces()\n",
    "\n",
    "\n",
    "def nsp(path):\n",
    "    return nspath_eval(path, namespaces)"
   ]
  },
  {
   "cell_type": "markdown",
   "metadata": {},
   "source": [
    "## Workhorse function to issue requests and parse the GetCapabilities and SensorML responses"
   ]
  },
  {
   "cell_type": "code",
   "execution_count": 3,
   "metadata": {
    "collapsed": false
   },
   "outputs": [],
   "source": [
    "def get_stations_df(sos_url, station_urns_sel=None):\n",
    "    \"\"\" Returns a GeoDataFrame\n",
    "    \"\"\"\n",
    "    # LATER: ADD ERROR TEST/CATCH AFTER EACH WEB REQUEST\n",
    "    oFrmt = 'text/xml; subtype=\"sensorML/1.0.1/profiles/ioos_sos/1.0\"'\n",
    "\n",
    "    if station_urns_sel is not None:\n",
    "        params = {'service': 'SOS', 'request': 'GetCapabilities', 'acceptVersions': '1.0.0'}        \n",
    "        sosgc = SensorObservationService(sos_url + '?' + urlencode(params))\n",
    "        station_urns = station_urns_sel\n",
    "    else:\n",
    "        sos_collector = IoosSweSos(sos_url)\n",
    "        station_urns = [urn.name for urn in sos_collector.server.offerings\n",
    "                        if 'network' not in urn.name.split(':')]\n",
    "        sos_collector.features = station_urns\n",
    "        sml_lst = sos_collector.metadata(timeout=200)\n",
    "\n",
    "    station_recs = []\n",
    "    for station_idx, station_urn in enumerate(station_urns):\n",
    "        if station_urns_sel is not None:\n",
    "            sml_str = sosgc.describe_sensor(procedure=station_urn, outputFormat=oFrmt,\n",
    "                                            timeout=200)\n",
    "            sml = SensorML(sml_str)\n",
    "        else:\n",
    "            sml = sml_lst[station_idx]\n",
    "\n",
    "        ds = IoosDescribeSensor(sml._root)\n",
    "\n",
    "        pos = testXMLValue(ds.system.location.find(nsp('gml:Point/gml:pos')))\n",
    "\n",
    "        system_el = sml._root.findall(nsp('sml:member'))[0].find(nsp('sml:System'))\n",
    "\n",
    "        # Assume there's a single DocumentList/member; will read the first one only.\n",
    "        # Assume that member corresponds to xlink:arcrole=\"urn:ogc:def:role:webPage\"\n",
    "        documents = system_el.findall(nsp('sml:documentation/sml:DocumentList/sml:member'))\n",
    "        if len(documents) > 0:\n",
    "            document = Documentation(documents[0])\n",
    "            webpage_url = document.documents[0].url\n",
    "        else:\n",
    "            webpage_url = None\n",
    "        \n",
    "        contacts = system_el.findall(nsp('sml:contact/sml:ContactList/sml:member'))\n",
    "        contacts_dct = {}\n",
    "        for c in contacts:\n",
    "            contact = Contact(c)\n",
    "            role = contact.role.split('/')[-1]\n",
    "            contacts_dct[role] = contact\n",
    "\n",
    "        sweQuants = system_el.findall(nsp('sml:outputs/sml:OutputList/sml:output/swe:Quantity'))\n",
    "        quant_lst = [sweQuant.attrib['definition'] for sweQuant in sweQuants]\n",
    "        parameter_lst = [sweQuant.split('/')[-1] for sweQuant in quant_lst]\n",
    "\n",
    "        station = OrderedDict()\n",
    "        station['station_urn'] = station_urn\n",
    "        station['lon'] = float(pos.split()[1])\n",
    "        station['lat'] = float(pos.split()[0])\n",
    "\n",
    "        station['shortName'] = ds.shortName\n",
    "        station['longName'] = ds.longName\n",
    "        station['wmoID'] = ds.get_ioos_def('wmoID', 'identifier', ont)\n",
    "\n",
    "        # Beware that a station can have >1 classifier of the same type\n",
    "        # This code does not accommodate that possibility\n",
    "        station['platformType'] = ds.platformType\n",
    "        station['parentNetwork'] = ds.get_ioos_def('parentNetwork', 'classifier', ont)\n",
    "        station['sponsor'] = ds.get_ioos_def('sponsor', 'classifier', ont)\n",
    "        station['webpage_url'] = webpage_url\n",
    "\n",
    "        station['operatorSector'] = ds.get_ioos_def('operatorSector', 'classifier', ont)\n",
    "        station['operator_org'] = contacts_dct['operator'].organization\n",
    "        station['operator_country'] = contacts_dct['operator'].country\n",
    "        station['operator_url'] = contacts_dct['operator'].url\n",
    "        # pull out email address(es) too?\n",
    "        # station_dct['operator_email'] = contacts_dct['operator'].electronicMailAddress\n",
    "\n",
    "        station['publisher'] = ds.get_ioos_def('publisher', 'classifier', ont)\n",
    "        station['publisher_org'] = contacts_dct['publisher'].organization\n",
    "        station['publisher_url'] = contacts_dct['publisher'].url\n",
    "        # station_dct['publisher_email'] = contacts_dct['publisher'].electronicMailAddress\n",
    "\n",
    "        station['starting'] = ds.starting\n",
    "        station['ending'] = ds.ending\n",
    "        station['starting_isostr'] = datetime.isoformat(ds.starting)\n",
    "        station['ending_isostr'] = datetime.isoformat(ds.ending)\n",
    "\n",
    "        station['parameter_uris'] = ','.join(quant_lst)\n",
    "        station['parameters'] = ','.join(parameter_lst)\n",
    "\n",
    "        station_recs.append(station)\n",
    "\n",
    "    stations_df = pd.DataFrame.from_records(station_recs, columns=station.keys())\n",
    "    stations_df.index = stations_df['station_urn']\n",
    "\n",
    "    return stations_df"
   ]
  },
  {
   "cell_type": "markdown",
   "metadata": {},
   "source": [
    "## Select SOS and optionally station urn's, the issue DescribeSensor requests"
   ]
  },
  {
   "cell_type": "code",
   "execution_count": 4,
   "metadata": {
    "collapsed": true
   },
   "outputs": [],
   "source": [
    "sos_endpoints = {\n",
    "    'CeNCOOS': 'http://sos.cencoos.org/sos/sos/kvp',\n",
    "    'NANOOS': 'http://data.nanoos.org/52nsos/sos/kvp'\n",
    "}"
   ]
  },
  {
   "cell_type": "markdown",
   "metadata": {},
   "source": [
    "Select SOS (sos_label) and optionally a list of station urn's. Using `station_urns = None` will result in querying the SOS GetCapabilities to extract all non-network, station offerings. Otherwise, pass a list of `station_urns` to process only those stations."
   ]
  },
  {
   "cell_type": "markdown",
   "metadata": {},
   "source": [
    "### The 2nd of these two cells will be run, naturally"
   ]
  },
  {
   "cell_type": "code",
   "execution_count": 5,
   "metadata": {
    "collapsed": false
   },
   "outputs": [],
   "source": [
    "sos_label = 'CeNCOOS'\n",
    "\n",
    "station_urns = [\n",
    "    'urn:ioos:station:cencoos:Tiburon',\n",
    "    'urn:ioos:station:cencoos:Carquinez',\n",
    "    'urn:ioos:station:cencoos:Trinidad',\n",
    "    'urn:ioos:station:cencoos:Humboldt',\n",
    "    'urn:ioos:station:cencoos:Monterey',\n",
    "    'urn:ioos:station:cencoos:SantaCruz',\n",
    "    'urn:ioos:station:mlml:mlml-sea'\n",
    "    ]\n",
    "\n",
    "#station_urns = ['urn:ioos:station:cencoos:Trinidad']\n",
    "#station_urns = None"
   ]
  },
  {
   "cell_type": "code",
   "execution_count": null,
   "metadata": {
    "collapsed": true
   },
   "outputs": [],
   "source": []
  },
  {
   "cell_type": "code",
   "execution_count": 6,
   "metadata": {
    "collapsed": true
   },
   "outputs": [],
   "source": [
    "sos_label = 'NANOOS'\n",
    "\n",
    "# station_urns = ['urn:ioos:station:nanoos:nerrs_sosecwq']\n",
    "station_urns = None"
   ]
  },
  {
   "cell_type": "markdown",
   "metadata": {},
   "source": [
    "### Request and parse SensorML documents (and possibly SOS GetCapabilities)"
   ]
  },
  {
   "cell_type": "code",
   "execution_count": 7,
   "metadata": {
    "collapsed": false
   },
   "outputs": [],
   "source": [
    "stations_df = get_stations_df(sos_endpoints[sos_label], station_urns)"
   ]
  },
  {
   "cell_type": "code",
   "execution_count": 8,
   "metadata": {
    "collapsed": false
   },
   "outputs": [],
   "source": [
    "# Assign EPSG:4326 CRS, retrieved from epsg.io\n",
    "# The OGC WKT crs string is available directly at http://epsg.io/4326.wkt\n",
    "# or http://spatialreference.org/ref/epsg/4326/ogcwkt/\n",
    "crs = '''GEOGCS[\"WGS 84\", \n",
    "           DATUM[\"WGS_1984\",SPHEROID[\"WGS 84\",6378137,298.257223563,AUTHORITY[\"EPSG\",\"7030\"]],\n",
    "             AUTHORITY[\"EPSG\",\"6326\"]],\n",
    "           PRIMEM[\"Greenwich\",0,AUTHORITY[\"EPSG\",\"8901\"]],\n",
    "           UNIT[\"degree\",0.0174532925199433,AUTHORITY[\"EPSG\",\"9122\"]],\n",
    "         AUTHORITY[\"EPSG\",\"4326\"]]'\n",
    "'''\n",
    "geometry = [Point(xy) for xy in zip(stations_df.lon, stations_df.lat)]\n",
    "stations_gdf = gpd.GeoDataFrame(stations_df, geometry=geometry, crs=crs)"
   ]
  },
  {
   "cell_type": "code",
   "execution_count": 9,
   "metadata": {
    "collapsed": false,
    "scrolled": false
   },
   "outputs": [
    {
     "data": {
      "text/html": [
       "<div>\n",
       "<table border=\"1\" class=\"dataframe\">\n",
       "  <thead>\n",
       "    <tr style=\"text-align: right;\">\n",
       "      <th></th>\n",
       "      <th>station_urn</th>\n",
       "      <th>lon</th>\n",
       "      <th>lat</th>\n",
       "      <th>shortName</th>\n",
       "      <th>longName</th>\n",
       "      <th>wmoID</th>\n",
       "      <th>platformType</th>\n",
       "      <th>parentNetwork</th>\n",
       "      <th>sponsor</th>\n",
       "      <th>webpage_url</th>\n",
       "      <th>...</th>\n",
       "      <th>publisher</th>\n",
       "      <th>publisher_org</th>\n",
       "      <th>publisher_url</th>\n",
       "      <th>starting</th>\n",
       "      <th>ending</th>\n",
       "      <th>starting_isostr</th>\n",
       "      <th>ending_isostr</th>\n",
       "      <th>parameter_uris</th>\n",
       "      <th>parameters</th>\n",
       "      <th>geometry</th>\n",
       "    </tr>\n",
       "    <tr>\n",
       "      <th>station_urn</th>\n",
       "      <th></th>\n",
       "      <th></th>\n",
       "      <th></th>\n",
       "      <th></th>\n",
       "      <th></th>\n",
       "      <th></th>\n",
       "      <th></th>\n",
       "      <th></th>\n",
       "      <th></th>\n",
       "      <th></th>\n",
       "      <th></th>\n",
       "      <th></th>\n",
       "      <th></th>\n",
       "      <th></th>\n",
       "      <th></th>\n",
       "      <th></th>\n",
       "      <th></th>\n",
       "      <th></th>\n",
       "      <th></th>\n",
       "      <th></th>\n",
       "      <th></th>\n",
       "    </tr>\n",
       "  </thead>\n",
       "  <tbody>\n",
       "    <tr>\n",
       "      <th>urn:ioos:station:nanoos:apl_chaba</th>\n",
       "      <td>urn:ioos:station:nanoos:apl_chaba</td>\n",
       "      <td>-124.949203</td>\n",
       "      <td>47.965900</td>\n",
       "      <td>APL-UW Ä†hÃ¡Ê”baÂ·</td>\n",
       "      <td>(APL-UW) Ä†hÃ¡Ê”baÂ· UW/NANOOS Moored Buoy nea...</td>\n",
       "      <td>None</td>\n",
       "      <td>moored_buoy</td>\n",
       "      <td>NANOOS</td>\n",
       "      <td>None</td>\n",
       "      <td>http://wavechasers.apl.washington.edu/projects...</td>\n",
       "      <td>...</td>\n",
       "      <td>APL-UW</td>\n",
       "      <td>NANOOS</td>\n",
       "      <td>http://nanoos.org</td>\n",
       "      <td>2016-03-19 17:41:37+00:00</td>\n",
       "      <td>2016-06-20 06:51:16+00:00</td>\n",
       "      <td>2016-03-19T17:41:37+00:00</td>\n",
       "      <td>2016-06-20T06:51:16+00:00</td>\n",
       "      <td>http://mmisw.org/ont/cf/parameter/sea_water_te...</td>\n",
       "      <td>sea_water_temperature,sea_water_pressure,sea_w...</td>\n",
       "      <td>POINT (-124.9492034912109 47.96590042114258)</td>\n",
       "    </tr>\n",
       "    <tr>\n",
       "      <th>urn:ioos:station:nanoos:apl_nemo</th>\n",
       "      <td>urn:ioos:station:nanoos:apl_nemo</td>\n",
       "      <td>-124.955002</td>\n",
       "      <td>47.973999</td>\n",
       "      <td>APL-UW NEMO Profiler</td>\n",
       "      <td>(APL-UW) UW/NANOOS NEMO Subsurface profiler ne...</td>\n",
       "      <td>None</td>\n",
       "      <td>moored_buoy</td>\n",
       "      <td>NANOOS</td>\n",
       "      <td>None</td>\n",
       "      <td>http://wavechasers.apl.washington.edu/projects...</td>\n",
       "      <td>...</td>\n",
       "      <td>APL-UW</td>\n",
       "      <td>NANOOS</td>\n",
       "      <td>http://nanoos.org</td>\n",
       "      <td>2016-09-10 06:58:52+00:00</td>\n",
       "      <td>2016-10-20 13:28:52+00:00</td>\n",
       "      <td>2016-09-10T06:58:52+00:00</td>\n",
       "      <td>2016-10-20T13:28:52+00:00</td>\n",
       "      <td>http://mmisw.org/ont/cf/parameter/sea_water_te...</td>\n",
       "      <td>sea_water_temperature,sea_water_pressure,mass_...</td>\n",
       "      <td>POINT (-124.9550018310547 47.9739990234375)</td>\n",
       "    </tr>\n",
       "    <tr>\n",
       "      <th>urn:ioos:station:nanoos:apl_npb1ptwells</th>\n",
       "      <td>urn:ioos:station:nanoos:apl_npb1ptwells</td>\n",
       "      <td>-122.397202</td>\n",
       "      <td>47.761200</td>\n",
       "      <td>APL-UW NPB-1</td>\n",
       "      <td>(APL-UW) LSG NPB-1 Profiling Buoy at Pt. Wells</td>\n",
       "      <td>46120</td>\n",
       "      <td>moored_buoy</td>\n",
       "      <td>NANOOS</td>\n",
       "      <td>None</td>\n",
       "      <td>http://orca.ocean.washington.edu/data_pointWel...</td>\n",
       "      <td>...</td>\n",
       "      <td>APL-UW</td>\n",
       "      <td>NANOOS</td>\n",
       "      <td>http://nanoos.org</td>\n",
       "      <td>2015-12-04 06:28:48+00:00</td>\n",
       "      <td>2016-10-20 14:50:49+00:00</td>\n",
       "      <td>2015-12-04T06:28:48+00:00</td>\n",
       "      <td>2016-10-20T14:50:49+00:00</td>\n",
       "      <td>http://mmisw.org/ont/cf/parameter/mass_concent...</td>\n",
       "      <td>mass_concentration_of_oxygen_in_sea_water,wind...</td>\n",
       "      <td>POINT (-122.3972015380859 47.76119995117188)</td>\n",
       "    </tr>\n",
       "    <tr>\n",
       "      <th>urn:ioos:station:nanoos:apl_npb2carr</th>\n",
       "      <td>urn:ioos:station:nanoos:apl_npb2carr</td>\n",
       "      <td>-122.730003</td>\n",
       "      <td>47.279999</td>\n",
       "      <td>APL-UW NPB-2</td>\n",
       "      <td>(APL-UW) LSG NPB-2 Profiling Buoy at Carr Inlet</td>\n",
       "      <td>46121</td>\n",
       "      <td>moored_buoy</td>\n",
       "      <td>NANOOS</td>\n",
       "      <td>None</td>\n",
       "      <td>http://orca.ocean.washington.edu/data_carrInle...</td>\n",
       "      <td>...</td>\n",
       "      <td>APL-UW</td>\n",
       "      <td>NANOOS</td>\n",
       "      <td>http://nanoos.org</td>\n",
       "      <td>2015-12-07 20:09:44+00:00</td>\n",
       "      <td>2016-10-20 15:06:43+00:00</td>\n",
       "      <td>2015-12-07T20:09:44+00:00</td>\n",
       "      <td>2016-10-20T15:06:43+00:00</td>\n",
       "      <td>http://mmisw.org/ont/cf/parameter/mass_concent...</td>\n",
       "      <td>mass_concentration_of_oxygen_in_sea_water,sea_...</td>\n",
       "      <td>POINT (-122.7300033569336 47.27999877929688)</td>\n",
       "    </tr>\n",
       "    <tr>\n",
       "      <th>urn:ioos:station:nanoos:cmop_coaof</th>\n",
       "      <td>urn:ioos:station:nanoos:cmop_coaof</td>\n",
       "      <td>-123.774002</td>\n",
       "      <td>46.204700</td>\n",
       "      <td>CMOP_Coaof</td>\n",
       "      <td>(CMOP) Waste water outfall (City of Astoria)</td>\n",
       "      <td>None</td>\n",
       "      <td>fixed</td>\n",
       "      <td>NANOOS</td>\n",
       "      <td>None</td>\n",
       "      <td>http://www.stccmop.org/datamart/observation_ne...</td>\n",
       "      <td>...</td>\n",
       "      <td>CMOP</td>\n",
       "      <td>NANOOS</td>\n",
       "      <td>http://nanoos.org</td>\n",
       "      <td>2013-08-16 21:54:00+00:00</td>\n",
       "      <td>2013-08-16 21:54:00+00:00</td>\n",
       "      <td>2013-08-16T21:54:00+00:00</td>\n",
       "      <td>2013-08-16T21:54:00+00:00</td>\n",
       "      <td>http://mmisw.org/ont/cf/parameter/sea_water_te...</td>\n",
       "      <td>sea_water_temperature,sea_water_salinity</td>\n",
       "      <td>POINT (-123.7740020751953 46.2047004699707)</td>\n",
       "    </tr>\n",
       "  </tbody>\n",
       "</table>\n",
       "<p>5 rows × 24 columns</p>\n",
       "</div>"
      ],
      "text/plain": [
       "                                                                     station_urn  \\\n",
       "station_urn                                                                        \n",
       "urn:ioos:station:nanoos:apl_chaba              urn:ioos:station:nanoos:apl_chaba   \n",
       "urn:ioos:station:nanoos:apl_nemo                urn:ioos:station:nanoos:apl_nemo   \n",
       "urn:ioos:station:nanoos:apl_npb1ptwells  urn:ioos:station:nanoos:apl_npb1ptwells   \n",
       "urn:ioos:station:nanoos:apl_npb2carr        urn:ioos:station:nanoos:apl_npb2carr   \n",
       "urn:ioos:station:nanoos:cmop_coaof            urn:ioos:station:nanoos:cmop_coaof   \n",
       "\n",
       "                                                lon        lat  \\\n",
       "station_urn                                                      \n",
       "urn:ioos:station:nanoos:apl_chaba       -124.949203  47.965900   \n",
       "urn:ioos:station:nanoos:apl_nemo        -124.955002  47.973999   \n",
       "urn:ioos:station:nanoos:apl_npb1ptwells -122.397202  47.761200   \n",
       "urn:ioos:station:nanoos:apl_npb2carr    -122.730003  47.279999   \n",
       "urn:ioos:station:nanoos:cmop_coaof      -123.774002  46.204700   \n",
       "\n",
       "                                                    shortName  \\\n",
       "station_urn                                                     \n",
       "urn:ioos:station:nanoos:apl_chaba          APL-UW Ä†hÃ¡Ê”baÂ·   \n",
       "urn:ioos:station:nanoos:apl_nemo         APL-UW NEMO Profiler   \n",
       "urn:ioos:station:nanoos:apl_npb1ptwells          APL-UW NPB-1   \n",
       "urn:ioos:station:nanoos:apl_npb2carr             APL-UW NPB-2   \n",
       "urn:ioos:station:nanoos:cmop_coaof                 CMOP_Coaof   \n",
       "\n",
       "                                                                                  longName  \\\n",
       "station_urn                                                                                  \n",
       "urn:ioos:station:nanoos:apl_chaba        (APL-UW) Ä†hÃ¡Ê”baÂ· UW/NANOOS Moored Buoy nea...   \n",
       "urn:ioos:station:nanoos:apl_nemo         (APL-UW) UW/NANOOS NEMO Subsurface profiler ne...   \n",
       "urn:ioos:station:nanoos:apl_npb1ptwells     (APL-UW) LSG NPB-1 Profiling Buoy at Pt. Wells   \n",
       "urn:ioos:station:nanoos:apl_npb2carr       (APL-UW) LSG NPB-2 Profiling Buoy at Carr Inlet   \n",
       "urn:ioos:station:nanoos:cmop_coaof            (CMOP) Waste water outfall (City of Astoria)   \n",
       "\n",
       "                                         wmoID platformType parentNetwork  \\\n",
       "station_urn                                                                 \n",
       "urn:ioos:station:nanoos:apl_chaba         None  moored_buoy        NANOOS   \n",
       "urn:ioos:station:nanoos:apl_nemo          None  moored_buoy        NANOOS   \n",
       "urn:ioos:station:nanoos:apl_npb1ptwells  46120  moored_buoy        NANOOS   \n",
       "urn:ioos:station:nanoos:apl_npb2carr     46121  moored_buoy        NANOOS   \n",
       "urn:ioos:station:nanoos:cmop_coaof        None        fixed        NANOOS   \n",
       "\n",
       "                                        sponsor  \\\n",
       "station_urn                                       \n",
       "urn:ioos:station:nanoos:apl_chaba          None   \n",
       "urn:ioos:station:nanoos:apl_nemo           None   \n",
       "urn:ioos:station:nanoos:apl_npb1ptwells    None   \n",
       "urn:ioos:station:nanoos:apl_npb2carr       None   \n",
       "urn:ioos:station:nanoos:cmop_coaof         None   \n",
       "\n",
       "                                                                               webpage_url  \\\n",
       "station_urn                                                                                  \n",
       "urn:ioos:station:nanoos:apl_chaba        http://wavechasers.apl.washington.edu/projects...   \n",
       "urn:ioos:station:nanoos:apl_nemo         http://wavechasers.apl.washington.edu/projects...   \n",
       "urn:ioos:station:nanoos:apl_npb1ptwells  http://orca.ocean.washington.edu/data_pointWel...   \n",
       "urn:ioos:station:nanoos:apl_npb2carr     http://orca.ocean.washington.edu/data_carrInle...   \n",
       "urn:ioos:station:nanoos:cmop_coaof       http://www.stccmop.org/datamart/observation_ne...   \n",
       "\n",
       "                                                             ...                       \\\n",
       "station_urn                                                  ...                        \n",
       "urn:ioos:station:nanoos:apl_chaba                            ...                        \n",
       "urn:ioos:station:nanoos:apl_nemo                             ...                        \n",
       "urn:ioos:station:nanoos:apl_npb1ptwells                      ...                        \n",
       "urn:ioos:station:nanoos:apl_npb2carr                         ...                        \n",
       "urn:ioos:station:nanoos:cmop_coaof                           ...                        \n",
       "\n",
       "                                        publisher publisher_org  \\\n",
       "station_urn                                                       \n",
       "urn:ioos:station:nanoos:apl_chaba          APL-UW        NANOOS   \n",
       "urn:ioos:station:nanoos:apl_nemo           APL-UW        NANOOS   \n",
       "urn:ioos:station:nanoos:apl_npb1ptwells    APL-UW        NANOOS   \n",
       "urn:ioos:station:nanoos:apl_npb2carr       APL-UW        NANOOS   \n",
       "urn:ioos:station:nanoos:cmop_coaof           CMOP        NANOOS   \n",
       "\n",
       "                                             publisher_url  \\\n",
       "station_urn                                                  \n",
       "urn:ioos:station:nanoos:apl_chaba        http://nanoos.org   \n",
       "urn:ioos:station:nanoos:apl_nemo         http://nanoos.org   \n",
       "urn:ioos:station:nanoos:apl_npb1ptwells  http://nanoos.org   \n",
       "urn:ioos:station:nanoos:apl_npb2carr     http://nanoos.org   \n",
       "urn:ioos:station:nanoos:cmop_coaof       http://nanoos.org   \n",
       "\n",
       "                                                         starting  \\\n",
       "station_urn                                                         \n",
       "urn:ioos:station:nanoos:apl_chaba       2016-03-19 17:41:37+00:00   \n",
       "urn:ioos:station:nanoos:apl_nemo        2016-09-10 06:58:52+00:00   \n",
       "urn:ioos:station:nanoos:apl_npb1ptwells 2015-12-04 06:28:48+00:00   \n",
       "urn:ioos:station:nanoos:apl_npb2carr    2015-12-07 20:09:44+00:00   \n",
       "urn:ioos:station:nanoos:cmop_coaof      2013-08-16 21:54:00+00:00   \n",
       "\n",
       "                                                           ending  \\\n",
       "station_urn                                                         \n",
       "urn:ioos:station:nanoos:apl_chaba       2016-06-20 06:51:16+00:00   \n",
       "urn:ioos:station:nanoos:apl_nemo        2016-10-20 13:28:52+00:00   \n",
       "urn:ioos:station:nanoos:apl_npb1ptwells 2016-10-20 14:50:49+00:00   \n",
       "urn:ioos:station:nanoos:apl_npb2carr    2016-10-20 15:06:43+00:00   \n",
       "urn:ioos:station:nanoos:cmop_coaof      2013-08-16 21:54:00+00:00   \n",
       "\n",
       "                                                   starting_isostr  \\\n",
       "station_urn                                                          \n",
       "urn:ioos:station:nanoos:apl_chaba        2016-03-19T17:41:37+00:00   \n",
       "urn:ioos:station:nanoos:apl_nemo         2016-09-10T06:58:52+00:00   \n",
       "urn:ioos:station:nanoos:apl_npb1ptwells  2015-12-04T06:28:48+00:00   \n",
       "urn:ioos:station:nanoos:apl_npb2carr     2015-12-07T20:09:44+00:00   \n",
       "urn:ioos:station:nanoos:cmop_coaof       2013-08-16T21:54:00+00:00   \n",
       "\n",
       "                                                     ending_isostr  \\\n",
       "station_urn                                                          \n",
       "urn:ioos:station:nanoos:apl_chaba        2016-06-20T06:51:16+00:00   \n",
       "urn:ioos:station:nanoos:apl_nemo         2016-10-20T13:28:52+00:00   \n",
       "urn:ioos:station:nanoos:apl_npb1ptwells  2016-10-20T14:50:49+00:00   \n",
       "urn:ioos:station:nanoos:apl_npb2carr     2016-10-20T15:06:43+00:00   \n",
       "urn:ioos:station:nanoos:cmop_coaof       2013-08-16T21:54:00+00:00   \n",
       "\n",
       "                                                                            parameter_uris  \\\n",
       "station_urn                                                                                  \n",
       "urn:ioos:station:nanoos:apl_chaba        http://mmisw.org/ont/cf/parameter/sea_water_te...   \n",
       "urn:ioos:station:nanoos:apl_nemo         http://mmisw.org/ont/cf/parameter/sea_water_te...   \n",
       "urn:ioos:station:nanoos:apl_npb1ptwells  http://mmisw.org/ont/cf/parameter/mass_concent...   \n",
       "urn:ioos:station:nanoos:apl_npb2carr     http://mmisw.org/ont/cf/parameter/mass_concent...   \n",
       "urn:ioos:station:nanoos:cmop_coaof       http://mmisw.org/ont/cf/parameter/sea_water_te...   \n",
       "\n",
       "                                                                                parameters  \\\n",
       "station_urn                                                                                  \n",
       "urn:ioos:station:nanoos:apl_chaba        sea_water_temperature,sea_water_pressure,sea_w...   \n",
       "urn:ioos:station:nanoos:apl_nemo         sea_water_temperature,sea_water_pressure,mass_...   \n",
       "urn:ioos:station:nanoos:apl_npb1ptwells  mass_concentration_of_oxygen_in_sea_water,wind...   \n",
       "urn:ioos:station:nanoos:apl_npb2carr     mass_concentration_of_oxygen_in_sea_water,sea_...   \n",
       "urn:ioos:station:nanoos:cmop_coaof                sea_water_temperature,sea_water_salinity   \n",
       "\n",
       "                                                                             geometry  \n",
       "station_urn                                                                            \n",
       "urn:ioos:station:nanoos:apl_chaba        POINT (-124.9492034912109 47.96590042114258)  \n",
       "urn:ioos:station:nanoos:apl_nemo          POINT (-124.9550018310547 47.9739990234375)  \n",
       "urn:ioos:station:nanoos:apl_npb1ptwells  POINT (-122.3972015380859 47.76119995117188)  \n",
       "urn:ioos:station:nanoos:apl_npb2carr     POINT (-122.7300033569336 47.27999877929688)  \n",
       "urn:ioos:station:nanoos:cmop_coaof        POINT (-123.7740020751953 46.2047004699707)  \n",
       "\n",
       "[5 rows x 24 columns]"
      ]
     },
     "execution_count": 9,
     "metadata": {},
     "output_type": "execute_result"
    }
   ],
   "source": [
    "stations_gdf.head()"
   ]
  },
  {
   "cell_type": "markdown",
   "metadata": {},
   "source": [
    "**From Lance, about what's an active/working station: \"I meant by an 'older' station a station that does not have data for the past 7 days.\"**"
   ]
  },
  {
   "cell_type": "code",
   "execution_count": 10,
   "metadata": {
    "collapsed": false
   },
   "outputs": [
    {
     "name": "stdout",
     "output_type": "stream",
     "text": [
      "'Active' stations: 46 / Total stations: 65\n"
     ]
    }
   ],
   "source": [
    "active_cnt = len(stations_gdf[stations_gdf.ending > '2016-7-3'])\n",
    "total_cnt = len(stations_gdf)\n",
    "print(\"'Active' stations: %d / Total stations: %d\" % (active_cnt, total_cnt))"
   ]
  },
  {
   "cell_type": "markdown",
   "metadata": {},
   "source": [
    "## Export to GeoPackage (gpkg) file"
   ]
  },
  {
   "cell_type": "code",
   "execution_count": 11,
   "metadata": {
    "collapsed": false,
    "scrolled": true
   },
   "outputs": [
    {
     "data": {
      "text/plain": [
       "station_urn                      object\n",
       "lon                             float64\n",
       "lat                             float64\n",
       "shortName                        object\n",
       "longName                         object\n",
       "wmoID                            object\n",
       "platformType                     object\n",
       "parentNetwork                    object\n",
       "sponsor                          object\n",
       "webpage_url                      object\n",
       "operatorSector                   object\n",
       "operator_org                     object\n",
       "operator_country                 object\n",
       "operator_url                     object\n",
       "publisher                        object\n",
       "publisher_org                    object\n",
       "publisher_url                    object\n",
       "starting            datetime64[ns, UTC]\n",
       "ending              datetime64[ns, UTC]\n",
       "starting_isostr                  object\n",
       "ending_isostr                    object\n",
       "parameter_uris                   object\n",
       "parameters                       object\n",
       "geometry                         object\n",
       "dtype: object"
      ]
     },
     "execution_count": 11,
     "metadata": {},
     "output_type": "execute_result"
    }
   ],
   "source": [
    "stations_gdf.dtypes"
   ]
  },
  {
   "cell_type": "code",
   "execution_count": 12,
   "metadata": {
    "collapsed": false
   },
   "outputs": [
    {
     "name": "stdout",
     "output_type": "stream",
     "text": [
      "('station_urn', <type 'str'>)\n",
      "('lon', <type 'numpy.float64'>)\n",
      "('lat', <type 'numpy.float64'>)\n",
      "('shortName', <type 'unicode'>)\n",
      "('longName', <type 'unicode'>)\n",
      "('wmoID', <type 'NoneType'>)\n",
      "('platformType', <type 'str'>)\n",
      "('parentNetwork', <type 'str'>)\n",
      "('sponsor', <type 'NoneType'>)\n",
      "('webpage_url', <type 'str'>)\n",
      "('operatorSector', <type 'str'>)\n",
      "('operator_org', <type 'str'>)\n",
      "('operator_country', <type 'str'>)\n",
      "('operator_url', <type 'str'>)\n",
      "('publisher', <type 'str'>)\n",
      "('publisher_org', <type 'str'>)\n",
      "('publisher_url', <type 'str'>)\n",
      "('starting', <class 'pandas.tslib.Timestamp'>)\n",
      "('ending', <class 'pandas.tslib.Timestamp'>)\n",
      "('starting_isostr', <type 'str'>)\n",
      "('ending_isostr', <type 'str'>)\n",
      "('parameter_uris', <type 'str'>)\n",
      "('parameters', <type 'str'>)\n",
      "('geometry', <class 'shapely.geometry.point.Point'>)\n"
     ]
    }
   ],
   "source": [
    "for d in stations_gdf:\n",
    "    print(d, type(stations_gdf['{}'.format(d)][0]))"
   ]
  },
  {
   "cell_type": "code",
   "execution_count": 13,
   "metadata": {
    "collapsed": true
   },
   "outputs": [],
   "source": [
    "# Remove attributes that lead to puking when exporting to file\n",
    "stations_gdf_out = stations_gdf.drop(['starting', 'ending'], axis=1)"
   ]
  },
  {
   "cell_type": "code",
   "execution_count": 14,
   "metadata": {
    "collapsed": false
   },
   "outputs": [
    {
     "ename": "DriverError",
     "evalue": "unsupported driver: 'GPKG'",
     "output_type": "error",
     "traceback": [
      "\u001b[0;31m\u001b[0m",
      "\u001b[0;31mDriverError\u001b[0mTraceback (most recent call last)",
      "\u001b[0;32m<ipython-input-14-677388bf3c19>\u001b[0m in \u001b[0;36m<module>\u001b[0;34m()\u001b[0m\n\u001b[1;32m      1\u001b[0m \u001b[0mfpth\u001b[0m \u001b[1;33m=\u001b[0m \u001b[1;34m'~/ipythonnotebooks/%s_sossml_stations.gpkg'\u001b[0m \u001b[1;33m%\u001b[0m \u001b[0msos_label\u001b[0m\u001b[1;33m\u001b[0m\u001b[0m\n\u001b[0;32m----> 2\u001b[0;31m \u001b[0mstations_gdf_out\u001b[0m\u001b[1;33m.\u001b[0m\u001b[0mto_file\u001b[0m\u001b[1;33m(\u001b[0m\u001b[0mfpth\u001b[0m\u001b[1;33m,\u001b[0m \u001b[0mdriver\u001b[0m\u001b[1;33m=\u001b[0m\u001b[1;34m'GPKG'\u001b[0m\u001b[1;33m)\u001b[0m\u001b[1;33m\u001b[0m\u001b[0m\n\u001b[0m",
      "\u001b[0;32mC:\\Users\\Micah.Wengren\\AppData\\Local\\Continuum\\Miniconda2\\envs\\IOOS\\lib\\site-packages\\geopandas\\geodataframe.pyc\u001b[0m in \u001b[0;36mto_file\u001b[0;34m(self, filename, driver, schema, **kwargs)\u001b[0m\n\u001b[1;32m    341\u001b[0m         \"\"\"\n\u001b[1;32m    342\u001b[0m         \u001b[1;32mfrom\u001b[0m \u001b[0mgeopandas\u001b[0m\u001b[1;33m.\u001b[0m\u001b[0mio\u001b[0m\u001b[1;33m.\u001b[0m\u001b[0mfile\u001b[0m \u001b[1;32mimport\u001b[0m \u001b[0mto_file\u001b[0m\u001b[1;33m\u001b[0m\u001b[0m\n\u001b[0;32m--> 343\u001b[0;31m         \u001b[0mto_file\u001b[0m\u001b[1;33m(\u001b[0m\u001b[0mself\u001b[0m\u001b[1;33m,\u001b[0m \u001b[0mfilename\u001b[0m\u001b[1;33m,\u001b[0m \u001b[0mdriver\u001b[0m\u001b[1;33m,\u001b[0m \u001b[0mschema\u001b[0m\u001b[1;33m,\u001b[0m \u001b[1;33m**\u001b[0m\u001b[0mkwargs\u001b[0m\u001b[1;33m)\u001b[0m\u001b[1;33m\u001b[0m\u001b[0m\n\u001b[0m\u001b[1;32m    344\u001b[0m \u001b[1;33m\u001b[0m\u001b[0m\n\u001b[1;32m    345\u001b[0m     \u001b[1;32mdef\u001b[0m \u001b[0mto_crs\u001b[0m\u001b[1;33m(\u001b[0m\u001b[0mself\u001b[0m\u001b[1;33m,\u001b[0m \u001b[0mcrs\u001b[0m\u001b[1;33m=\u001b[0m\u001b[0mNone\u001b[0m\u001b[1;33m,\u001b[0m \u001b[0mepsg\u001b[0m\u001b[1;33m=\u001b[0m\u001b[0mNone\u001b[0m\u001b[1;33m,\u001b[0m \u001b[0minplace\u001b[0m\u001b[1;33m=\u001b[0m\u001b[0mFalse\u001b[0m\u001b[1;33m)\u001b[0m\u001b[1;33m:\u001b[0m\u001b[1;33m\u001b[0m\u001b[0m\n",
      "\u001b[0;32mC:\\Users\\Micah.Wengren\\AppData\\Local\\Continuum\\Miniconda2\\envs\\IOOS\\lib\\site-packages\\geopandas\\io\\file.pyc\u001b[0m in \u001b[0;36mto_file\u001b[0;34m(df, filename, driver, schema, **kwargs)\u001b[0m\n\u001b[1;32m     59\u001b[0m     \u001b[0mfilename\u001b[0m \u001b[1;33m=\u001b[0m \u001b[0mos\u001b[0m\u001b[1;33m.\u001b[0m\u001b[0mpath\u001b[0m\u001b[1;33m.\u001b[0m\u001b[0mabspath\u001b[0m\u001b[1;33m(\u001b[0m\u001b[0mos\u001b[0m\u001b[1;33m.\u001b[0m\u001b[0mpath\u001b[0m\u001b[1;33m.\u001b[0m\u001b[0mexpanduser\u001b[0m\u001b[1;33m(\u001b[0m\u001b[0mfilename\u001b[0m\u001b[1;33m)\u001b[0m\u001b[1;33m)\u001b[0m\u001b[1;33m\u001b[0m\u001b[0m\n\u001b[1;32m     60\u001b[0m     with fiona.open(filename, 'w', driver=driver, crs=df.crs,\n\u001b[0;32m---> 61\u001b[0;31m                     schema=schema, **kwargs) as c:\n\u001b[0m\u001b[1;32m     62\u001b[0m         \u001b[1;32mfor\u001b[0m \u001b[0mfeature\u001b[0m \u001b[1;32min\u001b[0m \u001b[0mdf\u001b[0m\u001b[1;33m.\u001b[0m\u001b[0miterfeatures\u001b[0m\u001b[1;33m(\u001b[0m\u001b[1;33m)\u001b[0m\u001b[1;33m:\u001b[0m\u001b[1;33m\u001b[0m\u001b[0m\n\u001b[1;32m     63\u001b[0m             \u001b[0mc\u001b[0m\u001b[1;33m.\u001b[0m\u001b[0mwrite\u001b[0m\u001b[1;33m(\u001b[0m\u001b[0mfeature\u001b[0m\u001b[1;33m)\u001b[0m\u001b[1;33m\u001b[0m\u001b[0m\n",
      "\u001b[0;32mC:\\Users\\Micah.Wengren\\AppData\\Local\\Continuum\\Miniconda2\\envs\\IOOS\\lib\\site-packages\\fiona\\__init__.pyc\u001b[0m in \u001b[0;36mopen\u001b[0;34m(path, mode, driver, schema, crs, encoding, layer, vfs, enabled_drivers, crs_wkt)\u001b[0m\n\u001b[1;32m    176\u001b[0m         c = Collection(path, mode, crs=crs, driver=driver, schema=this_schema,\n\u001b[1;32m    177\u001b[0m                        \u001b[0mencoding\u001b[0m\u001b[1;33m=\u001b[0m\u001b[0mencoding\u001b[0m\u001b[1;33m,\u001b[0m \u001b[0mlayer\u001b[0m\u001b[1;33m=\u001b[0m\u001b[0mlayer\u001b[0m\u001b[1;33m,\u001b[0m \u001b[0mvsi\u001b[0m\u001b[1;33m=\u001b[0m\u001b[0mvsi\u001b[0m\u001b[1;33m,\u001b[0m \u001b[0marchive\u001b[0m\u001b[1;33m=\u001b[0m\u001b[0marchive\u001b[0m\u001b[1;33m,\u001b[0m\u001b[1;33m\u001b[0m\u001b[0m\n\u001b[0;32m--> 178\u001b[0;31m                        enabled_drivers=enabled_drivers, crs_wkt=crs_wkt)\n\u001b[0m\u001b[1;32m    179\u001b[0m     \u001b[1;32melse\u001b[0m\u001b[1;33m:\u001b[0m\u001b[1;33m\u001b[0m\u001b[0m\n\u001b[1;32m    180\u001b[0m         raise ValueError(\n",
      "\u001b[0;32mC:\\Users\\Micah.Wengren\\AppData\\Local\\Continuum\\Miniconda2\\envs\\IOOS\\lib\\site-packages\\fiona\\collection.pyc\u001b[0m in \u001b[0;36m__init__\u001b[0;34m(self, path, mode, driver, schema, crs, encoding, layer, vsi, archive, enabled_drivers, crs_wkt, **kwargs)\u001b[0m\n\u001b[1;32m    110\u001b[0m             \u001b[1;32melif\u001b[0m \u001b[0mdriver\u001b[0m \u001b[1;32mnot\u001b[0m \u001b[1;32min\u001b[0m \u001b[0msupported_drivers\u001b[0m\u001b[1;33m:\u001b[0m\u001b[1;33m\u001b[0m\u001b[0m\n\u001b[1;32m    111\u001b[0m                 raise DriverError(\n\u001b[0;32m--> 112\u001b[0;31m                     \"unsupported driver: %r\" % driver)\n\u001b[0m\u001b[1;32m    113\u001b[0m             \u001b[1;32melif\u001b[0m \u001b[0mself\u001b[0m\u001b[1;33m.\u001b[0m\u001b[0mmode\u001b[0m \u001b[1;32mnot\u001b[0m \u001b[1;32min\u001b[0m \u001b[0msupported_drivers\u001b[0m\u001b[1;33m[\u001b[0m\u001b[0mdriver\u001b[0m\u001b[1;33m]\u001b[0m\u001b[1;33m:\u001b[0m\u001b[1;33m\u001b[0m\u001b[0m\n\u001b[1;32m    114\u001b[0m                 raise DriverError(\n",
      "\u001b[0;31mDriverError\u001b[0m: unsupported driver: 'GPKG'"
     ]
    }
   ],
   "source": [
    "fpth = '~/ipythonnotebooks/%s_sossml_stations.gpkg' % sos_label\n",
    "stations_gdf_out.to_file(fpth, driver='GPKG')"
   ]
  },
  {
   "cell_type": "code",
   "execution_count": null,
   "metadata": {
    "collapsed": true
   },
   "outputs": [],
   "source": []
  }
 ],
 "metadata": {
  "anaconda-cloud": {},
  "kernelspec": {
   "display_name": "Python [conda env:IOOS]",
   "language": "python",
   "name": "conda-env-IOOS-py"
  },
  "language_info": {
   "codemirror_mode": {
    "name": "ipython",
    "version": 2
   },
   "file_extension": ".py",
   "mimetype": "text/x-python",
   "name": "python",
   "nbconvert_exporter": "python",
   "pygments_lexer": "ipython2",
   "version": "2.7.12"
  }
 },
 "nbformat": 4,
 "nbformat_minor": 0
}
