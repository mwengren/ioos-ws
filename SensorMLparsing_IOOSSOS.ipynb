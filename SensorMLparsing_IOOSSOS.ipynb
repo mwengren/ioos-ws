{
 "cells": [
  {
   "cell_type": "markdown",
   "metadata": {},
   "source": [
    "# IOOS SOS SensorML Access and Parsing\n",
    "7/9/2016, [Emilio Mayorga](https://github.com/emiliom/), for [NANOOS](https://github.com/nanoos-pnw).\n",
    "\n",
    "Access and parse the SensorML responses from an IOOS SOS M1 service endpoint. Extract all/most station-level attributes defined as part of the IOOS convention, and populate a GeoDataFrame from all the station responses. Request may involve getting all stations procedures available in the SOS endpoint, or only a subset of stations based on the station urn's. [OWSLib](https://github.com/geopython/OWSLib/) and [pyoos](https://github.com/ioos/pyoos/) are used for the requests and parsing."
   ]
  },
  {
   "cell_type": "markdown",
   "metadata": {},
   "source": [
    "## Import modules and set up low-level utility functions"
   ]
  },
  {
   "cell_type": "code",
   "execution_count": 1,
   "metadata": {
    "collapsed": true
   },
   "outputs": [],
   "source": [
    "from datetime import datetime\n",
    "from urllib import urlencode\n",
    "from collections import OrderedDict\n",
    "\n",
    "import numpy as np\n",
    "import pandas as pd\n",
    "from shapely.geometry import Point\n",
    "import geopandas as gpd\n",
    "\n",
    "from owslib.sos import SensorObservationService\n",
    "from owslib.swe.sensor.sml import SensorML, Contact\n",
    "from owslib.util import testXMLValue, testXMLAttribute, nspath_eval\n",
    "from owslib.namespaces import Namespaces\n",
    "\n",
    "from pyoos.collectors.ioos.swe_sos import IoosSweSos\n",
    "from pyoos.parsers.ioos.describe_sensor import IoosDescribeSensor\n",
    "from pyoos.parsers.ioos.one.describe_sensor import ont"
   ]
  },
  {
   "cell_type": "code",
   "execution_count": 2,
   "metadata": {
    "collapsed": true
   },
   "outputs": [],
   "source": [
    "# These functions are all from OWSLib, with minor adaptations\n",
    "\n",
    "def get_namespaces():\n",
    "    n = Namespaces()\n",
    "    namespaces = n.get_namespaces([\"sml\", \"gml\", \"xlink\", \"swe\"])\n",
    "    namespaces[\"ism\"] = \"urn:us:gov:ic:ism:v2\"\n",
    "    return namespaces\n",
    "\n",
    "namespaces = get_namespaces()\n",
    "\n",
    "\n",
    "def nsp(path):\n",
    "    return nspath_eval(path, namespaces)"
   ]
  },
  {
   "cell_type": "markdown",
   "metadata": {},
   "source": [
    "## Workhorse function to issue requests and parse the GetCapabilities and SensorML responses"
   ]
  },
  {
   "cell_type": "code",
   "execution_count": 3,
   "metadata": {
    "collapsed": false
   },
   "outputs": [],
   "source": [
    "def get_stations_df(sos_url, station_urns_sel=None):\n",
    "    \"\"\" Returns a GeoDataFrame\n",
    "    \"\"\"\n",
    "    # LATER: ADD ERROR TEST/CATCH AFTER EACH WEB REQUEST\n",
    "    oFrmt = 'text/xml; subtype=\"sensorML/1.0.1/profiles/ioos_sos/1.0\"'\n",
    "\n",
    "    if station_urns_sel is not None:\n",
    "        params = {'service': 'SOS', 'request': 'GetCapabilities', 'acceptVersions': '1.0.0'}        \n",
    "        sosgc = SensorObservationService(sos_url + '?' + urlencode(params))\n",
    "        station_urns = station_urns_sel\n",
    "    else:\n",
    "        sos_collector = IoosSweSos(sos_url)\n",
    "        station_urns = [urn.name for urn in sos_collector.server.offerings\n",
    "                        if 'network' not in urn.name.split(':')]\n",
    "        sos_collector.features = station_urns\n",
    "        sml_lst = sos_collector.metadata(timeout=200)\n",
    "\n",
    "    station_recs = []\n",
    "    for station_idx, station_urn in enumerate(station_urns):\n",
    "        if station_urns_sel is not None:\n",
    "            sml_str = sosgc.describe_sensor(procedure=station_urn, outputFormat=oFrmt,\n",
    "                                            timeout=200)\n",
    "            sml = SensorML(sml_str)\n",
    "        else:\n",
    "            sml = sml_lst[station_idx]\n",
    "\n",
    "        ds = IoosDescribeSensor(sml._root)\n",
    "\n",
    "        pos = testXMLValue(ds.system.location.find(nsp('gml:Point/gml:pos')))\n",
    "\n",
    "        system_el = sml._root.findall(nsp('sml:member'))[0].find(nsp('sml:System'))\n",
    "\n",
    "        contacts = system_el.findall(nsp('sml:contact/sml:ContactList/sml:member'))\n",
    "        contacts_dct = {}\n",
    "        for c in contacts:\n",
    "            contact = Contact(c)\n",
    "            role = contact.role.split('/')[-1]\n",
    "            contacts_dct[role] = contact\n",
    "\n",
    "        sweQuants = system_el.findall(nsp('sml:outputs/sml:OutputList/sml:output/swe:Quantity'))\n",
    "        quant_lst = [sweQuant.attrib['definition'] for sweQuant in sweQuants]\n",
    "        parameter_lst = [sweQuant.split('/')[-1] for sweQuant in quant_lst]\n",
    "\n",
    "        station = OrderedDict()\n",
    "        station['station_urn'] = station_urn\n",
    "        station['lon'] = float(pos.split()[1])\n",
    "        station['lat'] = float(pos.split()[0])\n",
    "\n",
    "        station['shortName'] = ds.shortName\n",
    "        station['longName'] = ds.longName\n",
    "        station['wmoID'] = ds.get_ioos_def('wmoID', 'identifier', ont)\n",
    "\n",
    "        # Beware that a station can have >1 classifier of the same type\n",
    "        # This code does not accommodate that possibility\n",
    "        station['platformType'] = ds.platformType\n",
    "        station['parentNetwork'] = ds.get_ioos_def('parentNetwork', 'classifier', ont)\n",
    "        station['sponsor'] = ds.get_ioos_def('sponsor', 'classifier', ont)\n",
    "\n",
    "        station['operatorSector'] = ds.get_ioos_def('operatorSector', 'classifier', ont)\n",
    "        station['operator_org'] = contacts_dct['operator'].organization\n",
    "        station['operator_country'] = contacts_dct['operator'].country\n",
    "        station['operator_url'] = contacts_dct['operator'].url\n",
    "        # pull out email address(es) too?\n",
    "        # station_dct['operator_email'] = contacts_dct['operator'].electronicMailAddress\n",
    "\n",
    "        station['publisher'] = ds.get_ioos_def('publisher', 'classifier', ont)\n",
    "        station['publisher_org'] = contacts_dct['publisher'].organization\n",
    "        station['publisher_url'] = contacts_dct['publisher'].url\n",
    "        # station_dct['publisher_email'] = contacts_dct['publisher'].electronicMailAddress\n",
    "\n",
    "        station['starting'] = ds.starting\n",
    "        station['ending'] = ds.ending\n",
    "        station['starting_isostr'] = datetime.isoformat(ds.starting)\n",
    "        station['ending_isostr'] = datetime.isoformat(ds.ending)\n",
    "\n",
    "        station['parameter_uris'] = ','.join(quant_lst)\n",
    "        station['parameters'] = ','.join(parameter_lst)\n",
    "\n",
    "        station_recs.append(station)\n",
    "\n",
    "    stations_df = pd.DataFrame.from_records(station_recs, columns=station.keys())\n",
    "    stations_df.index = stations_df['station_urn']\n",
    "\n",
    "    return stations_df"
   ]
  },
  {
   "cell_type": "markdown",
   "metadata": {},
   "source": [
    "## Select SOS and optionally station urn's, the issue DescribeSensor requests"
   ]
  },
  {
   "cell_type": "code",
   "execution_count": 4,
   "metadata": {
    "collapsed": true
   },
   "outputs": [],
   "source": [
    "sos_endpoints = {\n",
    "    'CeNCOOS': 'http://sos.cencoos.org/sos/sos/kvp',\n",
    "    'NANOOS': 'http://data.nanoos.org/52nsos/sos/kvp'\n",
    "}"
   ]
  },
  {
   "cell_type": "markdown",
   "metadata": {},
   "source": [
    "Select SOS (sos_label) and optionally a list of station urn's. Using `station_urns = None` will result in querying the SOS GetCapabilities to extract all non-network, station offerings. Otherwise, pass a list of `station_urns` to process only those stations."
   ]
  },
  {
   "cell_type": "code",
   "execution_count": 5,
   "metadata": {
    "collapsed": true
   },
   "outputs": [],
   "source": [
    "sos_label = 'NANOOS'\n",
    "\n",
    "station_urns = None"
   ]
  },
  {
   "cell_type": "code",
   "execution_count": 6,
   "metadata": {
    "collapsed": true
   },
   "outputs": [],
   "source": [
    "sos_label = 'CeNCOOS'\n",
    "\n",
    "station_urns = [\n",
    "    'urn:ioos:station:cencoos:Tiburon',\n",
    "    'urn:ioos:station:cencoos:Carquinez',\n",
    "    'urn:ioos:station:cencoos:Trinidad',\n",
    "    'urn:ioos:station:cencoos:Humboldt',\n",
    "    'urn:ioos:station:cencoos:Monterey',\n",
    "    'urn:ioos:station:cencoos:SantaCruz',\n",
    "    'urn:ioos:station:mlml:mlml-sea'\n",
    "    ]\n",
    "\n",
    "#station_urns = ['urn:ioos:station:cencoos:Trinidad']\n",
    "\n",
    "#station_urns = None"
   ]
  },
  {
   "cell_type": "markdown",
   "metadata": {},
   "source": [
    "### Request and parse SensorML documents (and possibly SOS GetCapabilities)"
   ]
  },
  {
   "cell_type": "code",
   "execution_count": 7,
   "metadata": {
    "collapsed": false
   },
   "outputs": [],
   "source": [
    "stations_df = get_stations_df(sos_endpoints[sos_label], station_urns)"
   ]
  },
  {
   "cell_type": "code",
   "execution_count": 8,
   "metadata": {
    "collapsed": false
   },
   "outputs": [],
   "source": [
    "# Assign EPSG:4326 CRS, retrieved from epsg.io\n",
    "# The OGC WKT crs string is available directly at http://epsg.io/4326.wkt\n",
    "# or http://spatialreference.org/ref/epsg/4326/ogcwkt/\n",
    "crs = '''GEOGCS[\"WGS 84\", \n",
    "           DATUM[\"WGS_1984\",SPHEROID[\"WGS 84\",6378137,298.257223563,AUTHORITY[\"EPSG\",\"7030\"]],\n",
    "             AUTHORITY[\"EPSG\",\"6326\"]],\n",
    "           PRIMEM[\"Greenwich\",0,AUTHORITY[\"EPSG\",\"8901\"]],\n",
    "           UNIT[\"degree\",0.0174532925199433,AUTHORITY[\"EPSG\",\"9122\"]],\n",
    "         AUTHORITY[\"EPSG\",\"4326\"]]'\n",
    "'''\n",
    "geometry = [Point(xy) for xy in zip(stations_df.lon, stations_df.lat)]\n",
    "stations_gdf = gpd.GeoDataFrame(stations_df, geometry=geometry, crs=crs)"
   ]
  },
  {
   "cell_type": "code",
   "execution_count": 9,
   "metadata": {
    "collapsed": false,
    "scrolled": false
   },
   "outputs": [
    {
     "data": {
      "text/html": [
       "<div>\n",
       "<table border=\"1\" class=\"dataframe\">\n",
       "  <thead>\n",
       "    <tr style=\"text-align: right;\">\n",
       "      <th></th>\n",
       "      <th>station_urn</th>\n",
       "      <th>lon</th>\n",
       "      <th>lat</th>\n",
       "      <th>shortName</th>\n",
       "      <th>longName</th>\n",
       "      <th>wmoID</th>\n",
       "      <th>platformType</th>\n",
       "      <th>parentNetwork</th>\n",
       "      <th>sponsor</th>\n",
       "      <th>operatorSector</th>\n",
       "      <th>...</th>\n",
       "      <th>publisher</th>\n",
       "      <th>publisher_org</th>\n",
       "      <th>publisher_url</th>\n",
       "      <th>starting</th>\n",
       "      <th>ending</th>\n",
       "      <th>starting_isostr</th>\n",
       "      <th>ending_isostr</th>\n",
       "      <th>parameter_uris</th>\n",
       "      <th>parameters</th>\n",
       "      <th>geometry</th>\n",
       "    </tr>\n",
       "    <tr>\n",
       "      <th>station_urn</th>\n",
       "      <th></th>\n",
       "      <th></th>\n",
       "      <th></th>\n",
       "      <th></th>\n",
       "      <th></th>\n",
       "      <th></th>\n",
       "      <th></th>\n",
       "      <th></th>\n",
       "      <th></th>\n",
       "      <th></th>\n",
       "      <th></th>\n",
       "      <th></th>\n",
       "      <th></th>\n",
       "      <th></th>\n",
       "      <th></th>\n",
       "      <th></th>\n",
       "      <th></th>\n",
       "      <th></th>\n",
       "      <th></th>\n",
       "      <th></th>\n",
       "      <th></th>\n",
       "    </tr>\n",
       "  </thead>\n",
       "  <tbody>\n",
       "    <tr>\n",
       "      <th>urn:ioos:station:cencoos:Tiburon</th>\n",
       "      <td>urn:ioos:station:cencoos:Tiburon</td>\n",
       "      <td>-122.44670</td>\n",
       "      <td>37.89150</td>\n",
       "      <td>Tiburon</td>\n",
       "      <td>Tiburon</td>\n",
       "      <td>None</td>\n",
       "      <td>FIXED MET STATION</td>\n",
       "      <td>Cencoos</td>\n",
       "      <td>None</td>\n",
       "      <td>gov_federal</td>\n",
       "      <td>...</td>\n",
       "      <td>Central &amp; Northern California Ocean Observing ...</td>\n",
       "      <td>Cencoos</td>\n",
       "      <td>http://www.cencoos.org/</td>\n",
       "      <td>2016-07-05 20:57:43.800000+00:00</td>\n",
       "      <td>2016-07-07 00:25:12.719000+00:00</td>\n",
       "      <td>2016-07-05T20:57:43.800000+00:00</td>\n",
       "      <td>2016-07-07T00:25:12.719000+00:00</td>\n",
       "      <td>http://mmisw.org/ont/cf/parameter/lwe_thicknes...</td>\n",
       "      <td>lwe_thickness_of_precipitation_amount,mass_con...</td>\n",
       "      <td>POINT (-122.4467 37.8915)</td>\n",
       "    </tr>\n",
       "    <tr>\n",
       "      <th>urn:ioos:station:cencoos:Carquinez</th>\n",
       "      <td>urn:ioos:station:cencoos:Carquinez</td>\n",
       "      <td>-122.23020</td>\n",
       "      <td>38.06570</td>\n",
       "      <td>Carquinez</td>\n",
       "      <td>Carquinez</td>\n",
       "      <td>None</td>\n",
       "      <td>FIXED MET STATION</td>\n",
       "      <td>Cencoos</td>\n",
       "      <td>None</td>\n",
       "      <td>gov_federal</td>\n",
       "      <td>...</td>\n",
       "      <td>Central &amp; Northern California Ocean Observing ...</td>\n",
       "      <td>Cencoos</td>\n",
       "      <td>http://www.cencoos.org/</td>\n",
       "      <td>2015-12-01 08:07:00.950000+00:00</td>\n",
       "      <td>2016-06-28 22:43:00.909000+00:00</td>\n",
       "      <td>2015-12-01T08:07:00.950000+00:00</td>\n",
       "      <td>2016-06-28T22:43:00.909000+00:00</td>\n",
       "      <td>http://mmisw.org/ont/cf/parameter/sea_water_te...</td>\n",
       "      <td>sea_water_temperature,turbidity,mass_concentra...</td>\n",
       "      <td>POINT (-122.2302 38.0657)</td>\n",
       "    </tr>\n",
       "    <tr>\n",
       "      <th>urn:ioos:station:cencoos:Trinidad</th>\n",
       "      <td>urn:ioos:station:cencoos:Trinidad</td>\n",
       "      <td>-124.14703</td>\n",
       "      <td>41.05500</td>\n",
       "      <td>Trinidad</td>\n",
       "      <td>Trinidad</td>\n",
       "      <td>None</td>\n",
       "      <td>FIXED MET STATION</td>\n",
       "      <td>Cencoos</td>\n",
       "      <td>None</td>\n",
       "      <td>gov_federal</td>\n",
       "      <td>...</td>\n",
       "      <td>Central &amp; Northern California Ocean Observing ...</td>\n",
       "      <td>Cencoos</td>\n",
       "      <td>http://www.cencoos.org/</td>\n",
       "      <td>2015-11-07 21:45:00.488000+00:00</td>\n",
       "      <td>2016-07-09 05:45:00.995000+00:00</td>\n",
       "      <td>2015-11-07T21:45:00.488000+00:00</td>\n",
       "      <td>2016-07-09T05:45:00.995000+00:00</td>\n",
       "      <td>http://mmisw.org/ont/cf/parameter/mass_concent...</td>\n",
       "      <td>mass_concentration_of_oxygen_in_sea_water,frac...</td>\n",
       "      <td>POINT (-124.14703 41.055)</td>\n",
       "    </tr>\n",
       "    <tr>\n",
       "      <th>urn:ioos:station:cencoos:Humboldt</th>\n",
       "      <td>urn:ioos:station:cencoos:Humboldt</td>\n",
       "      <td>-124.19652</td>\n",
       "      <td>40.77750</td>\n",
       "      <td>Humboldt</td>\n",
       "      <td>Humboldt</td>\n",
       "      <td>None</td>\n",
       "      <td>FIXED MET STATION</td>\n",
       "      <td>Cencoos</td>\n",
       "      <td>None</td>\n",
       "      <td>gov_federal</td>\n",
       "      <td>...</td>\n",
       "      <td>Central &amp; Northern California Ocean Observing ...</td>\n",
       "      <td>Cencoos</td>\n",
       "      <td>http://www.cencoos.org/</td>\n",
       "      <td>2015-11-07 06:45:00.751000+00:00</td>\n",
       "      <td>2016-07-09 14:00:00.726000+00:00</td>\n",
       "      <td>2015-11-07T06:45:00.751000+00:00</td>\n",
       "      <td>2016-07-09T14:00:00.726000+00:00</td>\n",
       "      <td>http://mmisw.org/ont/cf/parameter/mass_concent...</td>\n",
       "      <td>mass_concentration_of_chlorophyll_in_sea_water...</td>\n",
       "      <td>POINT (-124.19652 40.7775)</td>\n",
       "    </tr>\n",
       "    <tr>\n",
       "      <th>urn:ioos:station:cencoos:Monterey</th>\n",
       "      <td>urn:ioos:station:cencoos:Monterey</td>\n",
       "      <td>-121.88935</td>\n",
       "      <td>36.60513</td>\n",
       "      <td>Monterey</td>\n",
       "      <td>Monterey</td>\n",
       "      <td>None</td>\n",
       "      <td>FIXED MET STATION</td>\n",
       "      <td>Cencoos</td>\n",
       "      <td>None</td>\n",
       "      <td>gov_federal</td>\n",
       "      <td>...</td>\n",
       "      <td>Central &amp; Northern California Ocean Observing ...</td>\n",
       "      <td>Cencoos</td>\n",
       "      <td>http://www.cencoos.org/</td>\n",
       "      <td>2015-11-07 07:45:00.669000+00:00</td>\n",
       "      <td>2015-12-23 13:45:00.957000+00:00</td>\n",
       "      <td>2015-11-07T07:45:00.669000+00:00</td>\n",
       "      <td>2015-12-23T13:45:00.957000+00:00</td>\n",
       "      <td>http://mmisw.org/ont/cf/parameter/mass_concent...</td>\n",
       "      <td>mass_concentration_of_oxygen_in_sea_water,turb...</td>\n",
       "      <td>POINT (-121.88935 36.60513)</td>\n",
       "    </tr>\n",
       "  </tbody>\n",
       "</table>\n",
       "<p>5 rows × 23 columns</p>\n",
       "</div>"
      ],
      "text/plain": [
       "                                                           station_urn  \\\n",
       "station_urn                                                              \n",
       "urn:ioos:station:cencoos:Tiburon      urn:ioos:station:cencoos:Tiburon   \n",
       "urn:ioos:station:cencoos:Carquinez  urn:ioos:station:cencoos:Carquinez   \n",
       "urn:ioos:station:cencoos:Trinidad    urn:ioos:station:cencoos:Trinidad   \n",
       "urn:ioos:station:cencoos:Humboldt    urn:ioos:station:cencoos:Humboldt   \n",
       "urn:ioos:station:cencoos:Monterey    urn:ioos:station:cencoos:Monterey   \n",
       "\n",
       "                                          lon       lat  shortName   longName  \\\n",
       "station_urn                                                                     \n",
       "urn:ioos:station:cencoos:Tiburon   -122.44670  37.89150    Tiburon    Tiburon   \n",
       "urn:ioos:station:cencoos:Carquinez -122.23020  38.06570  Carquinez  Carquinez   \n",
       "urn:ioos:station:cencoos:Trinidad  -124.14703  41.05500   Trinidad   Trinidad   \n",
       "urn:ioos:station:cencoos:Humboldt  -124.19652  40.77750   Humboldt   Humboldt   \n",
       "urn:ioos:station:cencoos:Monterey  -121.88935  36.60513   Monterey   Monterey   \n",
       "\n",
       "                                   wmoID       platformType parentNetwork  \\\n",
       "station_urn                                                                 \n",
       "urn:ioos:station:cencoos:Tiburon    None  FIXED MET STATION       Cencoos   \n",
       "urn:ioos:station:cencoos:Carquinez  None  FIXED MET STATION       Cencoos   \n",
       "urn:ioos:station:cencoos:Trinidad   None  FIXED MET STATION       Cencoos   \n",
       "urn:ioos:station:cencoos:Humboldt   None  FIXED MET STATION       Cencoos   \n",
       "urn:ioos:station:cencoos:Monterey   None  FIXED MET STATION       Cencoos   \n",
       "\n",
       "                                   sponsor operatorSector  \\\n",
       "station_urn                                                 \n",
       "urn:ioos:station:cencoos:Tiburon      None    gov_federal   \n",
       "urn:ioos:station:cencoos:Carquinez    None    gov_federal   \n",
       "urn:ioos:station:cencoos:Trinidad     None    gov_federal   \n",
       "urn:ioos:station:cencoos:Humboldt     None    gov_federal   \n",
       "urn:ioos:station:cencoos:Monterey     None    gov_federal   \n",
       "\n",
       "                                               ...               \\\n",
       "station_urn                                    ...                \n",
       "urn:ioos:station:cencoos:Tiburon               ...                \n",
       "urn:ioos:station:cencoos:Carquinez             ...                \n",
       "urn:ioos:station:cencoos:Trinidad              ...                \n",
       "urn:ioos:station:cencoos:Humboldt              ...                \n",
       "urn:ioos:station:cencoos:Monterey              ...                \n",
       "\n",
       "                                                                            publisher  \\\n",
       "station_urn                                                                             \n",
       "urn:ioos:station:cencoos:Tiburon    Central & Northern California Ocean Observing ...   \n",
       "urn:ioos:station:cencoos:Carquinez  Central & Northern California Ocean Observing ...   \n",
       "urn:ioos:station:cencoos:Trinidad   Central & Northern California Ocean Observing ...   \n",
       "urn:ioos:station:cencoos:Humboldt   Central & Northern California Ocean Observing ...   \n",
       "urn:ioos:station:cencoos:Monterey   Central & Northern California Ocean Observing ...   \n",
       "\n",
       "                                   publisher_org            publisher_url  \\\n",
       "station_urn                                                                 \n",
       "urn:ioos:station:cencoos:Tiburon         Cencoos  http://www.cencoos.org/   \n",
       "urn:ioos:station:cencoos:Carquinez       Cencoos  http://www.cencoos.org/   \n",
       "urn:ioos:station:cencoos:Trinidad        Cencoos  http://www.cencoos.org/   \n",
       "urn:ioos:station:cencoos:Humboldt        Cencoos  http://www.cencoos.org/   \n",
       "urn:ioos:station:cencoos:Monterey        Cencoos  http://www.cencoos.org/   \n",
       "\n",
       "                                                           starting  \\\n",
       "station_urn                                                           \n",
       "urn:ioos:station:cencoos:Tiburon   2016-07-05 20:57:43.800000+00:00   \n",
       "urn:ioos:station:cencoos:Carquinez 2015-12-01 08:07:00.950000+00:00   \n",
       "urn:ioos:station:cencoos:Trinidad  2015-11-07 21:45:00.488000+00:00   \n",
       "urn:ioos:station:cencoos:Humboldt  2015-11-07 06:45:00.751000+00:00   \n",
       "urn:ioos:station:cencoos:Monterey  2015-11-07 07:45:00.669000+00:00   \n",
       "\n",
       "                                                             ending  \\\n",
       "station_urn                                                           \n",
       "urn:ioos:station:cencoos:Tiburon   2016-07-07 00:25:12.719000+00:00   \n",
       "urn:ioos:station:cencoos:Carquinez 2016-06-28 22:43:00.909000+00:00   \n",
       "urn:ioos:station:cencoos:Trinidad  2016-07-09 05:45:00.995000+00:00   \n",
       "urn:ioos:station:cencoos:Humboldt  2016-07-09 14:00:00.726000+00:00   \n",
       "urn:ioos:station:cencoos:Monterey  2015-12-23 13:45:00.957000+00:00   \n",
       "\n",
       "                                                     starting_isostr  \\\n",
       "station_urn                                                            \n",
       "urn:ioos:station:cencoos:Tiburon    2016-07-05T20:57:43.800000+00:00   \n",
       "urn:ioos:station:cencoos:Carquinez  2015-12-01T08:07:00.950000+00:00   \n",
       "urn:ioos:station:cencoos:Trinidad   2015-11-07T21:45:00.488000+00:00   \n",
       "urn:ioos:station:cencoos:Humboldt   2015-11-07T06:45:00.751000+00:00   \n",
       "urn:ioos:station:cencoos:Monterey   2015-11-07T07:45:00.669000+00:00   \n",
       "\n",
       "                                                       ending_isostr  \\\n",
       "station_urn                                                            \n",
       "urn:ioos:station:cencoos:Tiburon    2016-07-07T00:25:12.719000+00:00   \n",
       "urn:ioos:station:cencoos:Carquinez  2016-06-28T22:43:00.909000+00:00   \n",
       "urn:ioos:station:cencoos:Trinidad   2016-07-09T05:45:00.995000+00:00   \n",
       "urn:ioos:station:cencoos:Humboldt   2016-07-09T14:00:00.726000+00:00   \n",
       "urn:ioos:station:cencoos:Monterey   2015-12-23T13:45:00.957000+00:00   \n",
       "\n",
       "                                                                       parameter_uris  \\\n",
       "station_urn                                                                             \n",
       "urn:ioos:station:cencoos:Tiburon    http://mmisw.org/ont/cf/parameter/lwe_thicknes...   \n",
       "urn:ioos:station:cencoos:Carquinez  http://mmisw.org/ont/cf/parameter/sea_water_te...   \n",
       "urn:ioos:station:cencoos:Trinidad   http://mmisw.org/ont/cf/parameter/mass_concent...   \n",
       "urn:ioos:station:cencoos:Humboldt   http://mmisw.org/ont/cf/parameter/mass_concent...   \n",
       "urn:ioos:station:cencoos:Monterey   http://mmisw.org/ont/cf/parameter/mass_concent...   \n",
       "\n",
       "                                                                           parameters  \\\n",
       "station_urn                                                                             \n",
       "urn:ioos:station:cencoos:Tiburon    lwe_thickness_of_precipitation_amount,mass_con...   \n",
       "urn:ioos:station:cencoos:Carquinez  sea_water_temperature,turbidity,mass_concentra...   \n",
       "urn:ioos:station:cencoos:Trinidad   mass_concentration_of_oxygen_in_sea_water,frac...   \n",
       "urn:ioos:station:cencoos:Humboldt   mass_concentration_of_chlorophyll_in_sea_water...   \n",
       "urn:ioos:station:cencoos:Monterey   mass_concentration_of_oxygen_in_sea_water,turb...   \n",
       "\n",
       "                                                       geometry  \n",
       "station_urn                                                      \n",
       "urn:ioos:station:cencoos:Tiburon      POINT (-122.4467 37.8915)  \n",
       "urn:ioos:station:cencoos:Carquinez    POINT (-122.2302 38.0657)  \n",
       "urn:ioos:station:cencoos:Trinidad     POINT (-124.14703 41.055)  \n",
       "urn:ioos:station:cencoos:Humboldt    POINT (-124.19652 40.7775)  \n",
       "urn:ioos:station:cencoos:Monterey   POINT (-121.88935 36.60513)  \n",
       "\n",
       "[5 rows x 23 columns]"
      ]
     },
     "execution_count": 9,
     "metadata": {},
     "output_type": "execute_result"
    }
   ],
   "source": [
    "stations_gdf.head()"
   ]
  },
  {
   "cell_type": "markdown",
   "metadata": {},
   "source": [
    "**From Lance, about what's an active/working station: \"I meant by an 'older' station a station that does not have data for the past 7 days.\"**"
   ]
  },
  {
   "cell_type": "code",
   "execution_count": 10,
   "metadata": {
    "collapsed": false
   },
   "outputs": [
    {
     "name": "stdout",
     "output_type": "stream",
     "text": [
      "'Active' stations: 5 / Total stations: 7\n"
     ]
    }
   ],
   "source": [
    "active_cnt = len(stations_gdf[stations_gdf.ending > '2016-7-1'])\n",
    "total_cnt = len(stations_gdf)\n",
    "print(\"'Active' stations: %d / Total stations: %d\" % (active_cnt, total_cnt))"
   ]
  },
  {
   "cell_type": "markdown",
   "metadata": {},
   "source": [
    "## Export to GeoPackage (gpkg) file"
   ]
  },
  {
   "cell_type": "code",
   "execution_count": 11,
   "metadata": {
    "collapsed": false,
    "scrolled": true
   },
   "outputs": [
    {
     "data": {
      "text/plain": [
       "station_urn                      object\n",
       "lon                             float64\n",
       "lat                             float64\n",
       "shortName                        object\n",
       "longName                         object\n",
       "wmoID                            object\n",
       "platformType                     object\n",
       "parentNetwork                    object\n",
       "sponsor                          object\n",
       "operatorSector                   object\n",
       "operator_org                     object\n",
       "operator_country                 object\n",
       "operator_url                     object\n",
       "publisher                        object\n",
       "publisher_org                    object\n",
       "publisher_url                    object\n",
       "starting            datetime64[ns, UTC]\n",
       "ending              datetime64[ns, UTC]\n",
       "starting_isostr                  object\n",
       "ending_isostr                    object\n",
       "parameter_uris                   object\n",
       "parameters                       object\n",
       "geometry                         object\n",
       "dtype: object"
      ]
     },
     "execution_count": 11,
     "metadata": {},
     "output_type": "execute_result"
    }
   ],
   "source": [
    "stations_gdf.dtypes"
   ]
  },
  {
   "cell_type": "code",
   "execution_count": 12,
   "metadata": {
    "collapsed": false
   },
   "outputs": [
    {
     "name": "stdout",
     "output_type": "stream",
     "text": [
      "('station_urn', <type 'str'>)\n",
      "('lon', <type 'numpy.float64'>)\n",
      "('lat', <type 'numpy.float64'>)\n",
      "('shortName', <type 'str'>)\n",
      "('longName', <type 'str'>)\n",
      "('wmoID', <type 'NoneType'>)\n",
      "('platformType', <type 'str'>)\n",
      "('parentNetwork', <type 'str'>)\n",
      "('sponsor', <type 'NoneType'>)\n",
      "('operatorSector', <type 'str'>)\n",
      "('operator_org', <type 'str'>)\n",
      "('operator_country', <type 'str'>)\n",
      "('operator_url', <type 'str'>)\n",
      "('publisher', <type 'str'>)\n",
      "('publisher_org', <type 'str'>)\n",
      "('publisher_url', <type 'str'>)\n",
      "('starting', <class 'pandas.tslib.Timestamp'>)\n",
      "('ending', <class 'pandas.tslib.Timestamp'>)\n",
      "('starting_isostr', <type 'str'>)\n",
      "('ending_isostr', <type 'str'>)\n",
      "('parameter_uris', <type 'str'>)\n",
      "('parameters', <type 'str'>)\n",
      "('geometry', <class 'shapely.geometry.point.Point'>)\n"
     ]
    }
   ],
   "source": [
    "for d in stations_gdf:\n",
    "    print(d, type(stations_gdf['{}'.format(d)][0]))"
   ]
  },
  {
   "cell_type": "code",
   "execution_count": 13,
   "metadata": {
    "collapsed": true
   },
   "outputs": [],
   "source": [
    "# Remove attributes that lead to puking when exporting to file\n",
    "stations_gdf_out = stations_gdf.drop(['starting', 'ending'], axis=1)"
   ]
  },
  {
   "cell_type": "code",
   "execution_count": 14,
   "metadata": {
    "collapsed": false
   },
   "outputs": [],
   "source": [
    "fpth = '~/ipythonnotebooks/%s_sossml_stations.gpkg' % sos_label\n",
    "stations_gdf_out.to_file(fpth, driver='GPKG')"
   ]
  },
  {
   "cell_type": "code",
   "execution_count": null,
   "metadata": {
    "collapsed": true
   },
   "outputs": [],
   "source": []
  }
 ],
 "metadata": {
  "kernelspec": {
   "display_name": "Python 2",
   "language": "python",
   "name": "python2"
  },
  "language_info": {
   "codemirror_mode": {
    "name": "ipython",
    "version": 2
   },
   "file_extension": ".py",
   "mimetype": "text/x-python",
   "name": "python",
   "nbconvert_exporter": "python",
   "pygments_lexer": "ipython2",
   "version": "2.7.11"
  }
 },
 "nbformat": 4,
 "nbformat_minor": 0
}
